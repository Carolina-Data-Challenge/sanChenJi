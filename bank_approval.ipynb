{
 "cells": [
  {
   "cell_type": "code",
   "execution_count": 49,
   "metadata": {},
   "outputs": [],
   "source": [
    "import pandas as pd\n",
    "\n",
    "df = pd.read_csv(\"./sanChenJi/houses_with_names.csv\", low_memory=False)\n",
    "df = df[[\"lei\",\"action_taken\"]]\n",
    "df = df[df[\"action_taken\"] <= 3]\n",
    "\n",
    "banks = df[\"lei\"].value_counts(normalize=True).reset_index().values.tolist()[:5]"
   ]
  },
  {
   "cell_type": "code",
   "execution_count": 50,
   "metadata": {},
   "outputs": [],
   "source": [
    "leis = [b[0] for b in banks]\n",
    "pop_df = df[df[\"lei\"].isin(leis)]"
   ]
  },
  {
   "cell_type": "code",
   "execution_count": 55,
   "metadata": {},
   "outputs": [
    {
     "data": {
      "text/plain": [
       "{'549300SHE1JTCOWBP090': [1430, 13055],\n",
       " '549300DD4R4SYK5RAQ92': [782, 9202],\n",
       " 'KB1H1DSPRFMYMCUFXT09': [1302, 8336],\n",
       " '549300FGXN1K3HLB1R50': [1112, 5462],\n",
       " 'JJKC32MCHWDI71265Z06': [843, 5627]}"
      ]
     },
     "execution_count": 55,
     "metadata": {},
     "output_type": "execute_result"
    }
   ],
   "source": [
    "lei_dfs = [df[df[\"lei\"]==l] for l in leis]\n",
    "rates = {l : [] for l in leis}\n",
    "for l in lei_dfs:\n",
    "    lei = l.iloc[1][0]\n",
    "    rates[lei].append(len(l[l[\"action_taken\"]==3]))\n",
    "    rates[lei].append(len(l) - len(l[l[\"action_taken\"]==3]))\n",
    "rates"
   ]
  },
  {
   "cell_type": "code",
   "execution_count": 66,
   "metadata": {},
   "outputs": [
    {
     "name": "stdout",
     "output_type": "stream",
     "text": [
      "0.9012771832930618\n",
      "0.9216746794871795\n",
      "0.8649097323096078\n",
      "0.8308487982963189\n",
      "0.8697063369397218\n"
     ]
    }
   ],
   "source": [
    "rates_names = {\n",
    "    \"Wells Fargo\"       : rates['549300SHE1JTCOWBP090'],\n",
    "    \"SECU\"              : rates['549300DD4R4SYK5RAQ92'],\n",
    "    \"Movement Mortgage\" : rates['KB1H1DSPRFMYMCUFXT09'],\n",
    "    \"Truist\"            : rates['549300FGXN1K3HLB1R50'],\n",
    "    \"Quicken Loans\"     : rates['JJKC32MCHWDI71265Z06']    \n",
    "}\n",
    "for d in rates_names.values():\n",
    "    print(d[1]/(d[0]+d[1]))"
   ]
  },
  {
   "cell_type": "code",
   "execution_count": null,
   "metadata": {},
   "outputs": [],
   "source": [
    "import matplotlib\n",
    "import matplotlib.pyplot as plt\n",
    "import matplotlib.font_manager\n",
    "import numpy as np\n",
    "\n",
    "N = 5\n",
    "ind = np.arange(N)\n",
    "denied = [d[0] for d in rates_names.values()]\n",
    "approved = [d[1] for d in rates_names.values()]\n",
    "width = 0.5\n",
    "p1 = plt.bar(ind, approved, width)\n",
    "p2 = plt.bar(ind, denied, width, bottom=approved)\n",
    "plt.ylabel('Applications')\n",
    "plt.title('Approval Rates by Financial Institution')\n",
    "plt.xticks(ind, tuple(rates_names.keys()))\n",
    "plt.yticks(np.arange(0, 15000, 1500))\n",
    "plt.legend((p1[0], p2[0]), (\"Approved\", \"Denied\"))\n",
    "\n",
    "plt.show()"
   ]
  }
 ],
 "metadata": {
  "kernelspec": {
   "display_name": "Python 3",
   "language": "python",
   "name": "python3"
  },
  "language_info": {
   "codemirror_mode": {
    "name": "ipython",
    "version": 3
   },
   "file_extension": ".py",
   "mimetype": "text/x-python",
   "name": "python",
   "nbconvert_exporter": "python",
   "pygments_lexer": "ipython3",
   "version": "3.8.3"
  }
 },
 "nbformat": 4,
 "nbformat_minor": 4
}
